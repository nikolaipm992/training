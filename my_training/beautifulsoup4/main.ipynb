{
 "cells": [
  {
   "cell_type": "code",
   "execution_count": 4,
   "id": "3fefe3e4",
   "metadata": {},
   "outputs": [
    {
     "name": "stdout",
     "output_type": "stream",
     "text": [
      "\n",
      "Обработка: https://zakupki.gov.ru/epz/pricereq/search/results.html?searchString=редуктор&morphology=on&published=on&proposed=on&searchTextInAttachedFile=редуктор&sortBy=UPDATE_DATE&pageNumber=1&sortDirection=false&recordsPerPage=_50&showLotsInfoHidden=false#\n",
      "Сохранено как: Запросы цен товаров работ услуг.html\n"
     ]
    }
   ],
   "source": [
    "import requests\n",
    "from bs4 import BeautifulSoup\n",
    "\n",
    "headers = {\n",
    "    \"User-Agent\": \"Mozilla/5.0\"\n",
    "}\n",
    "\n",
    "urls = [\n",
    "\"https://zakupki.gov.ru/epz/pricereq/search/results.html?searchString=редуктор&morphology=on&published=on&proposed=on&searchTextInAttachedFile=редуктор&sortBy=UPDATE_DATE&pageNumber=1&sortDirection=false&recordsPerPage=_50&showLotsInfoHidden=false#\"\n",
    "]\n",
    "\n",
    "for url in urls:\n",
    "    clean_url = url.strip()\n",
    "    if not clean_url:\n",
    "        continue\n",
    "\n",
    "    print(f\"\\nОбработка: {clean_url}\")\n",
    "    try:\n",
    "        response = requests.get(clean_url, headers=headers, timeout=10)\n",
    "\n",
    "        if response.status_code == 200:\n",
    "            soup = BeautifulSoup(response.text, \"html.parser\")\n",
    "\n",
    "            title_tag = None\n",
    "            if soup.title and soup.title.string:\n",
    "                title_tag = soup.title.string.strip()\n",
    "\n",
    "            if title_tag:\n",
    "                filename_base = ''.join(c for c in title_tag if c.isalnum() or c in (' ', '_', '-')).strip()[:100]\n",
    "            else:\n",
    "                filename_base = clean_url.replace(\"://\", \"_\").replace(\"/\", \"_\").replace(\"?\", \"_\").replace(\"&\", \"_\").replace(\"=\", \"_\")[:100]\n",
    "\n",
    "            filename = f\"{filename_base}.html\"\n",
    "\n",
    "            cleaned_html = '\\n'.join(line.rstrip() for line in response.text.splitlines() if line.strip())\n",
    "\n",
    "            with open(filename, \"w\", encoding=\"utf-8\") as file:\n",
    "                file.write(cleaned_html)\n",
    "\n",
    "            print(f\"Сохранено как: {filename}\")\n",
    "        else:\n",
    "            print(f\"Ошибка загрузки страницы: {response.status_code}\")\n",
    "    except Exception as e:\n",
    "        print(f\"Ошибка при обработке {clean_url}: {e}\")"
   ]
  },
  {
   "cell_type": "code",
   "execution_count": 6,
   "id": "af6d68b1",
   "metadata": {},
   "outputs": [
    {
     "name": "stdout",
     "output_type": "stream",
     "text": [
      "Найдено записей: 3\n",
      "\n",
      "Номер: 0367200000825000076\n",
      "Ссылка: https://zakupki.gov.ru/epz/pricereq/card/common-info.html?priceRequestId=2465061\n",
      "--------------------------------------------------\n",
      "Номер: 0373100108125000735\n",
      "Ссылка: https://zakupki.gov.ru/epz/pricereq/card/common-info.html?priceRequestId=2453211\n",
      "--------------------------------------------------\n",
      "Номер: 0413100000117000499\n",
      "Ссылка: https://zakupki.gov.ru/epz/pricereq/card/common-info.html?priceRequestId=61128\n",
      "--------------------------------------------------\n"
     ]
    }
   ],
   "source": [
    "from bs4 import BeautifulSoup\n",
    "\n",
    "# Укажи имя твоего HTML-файла\n",
    "filename = \"Запросы цен товаров работ услуг.html\"\n",
    "\n",
    "# Читаем файл\n",
    "with open(filename, \"r\", encoding=\"utf-8\") as file:\n",
    "    html_content = file.read()\n",
    "\n",
    "# Парсим HTML\n",
    "soup = BeautifulSoup(html_content, \"html.parser\")\n",
    "\n",
    "# Ищем основной блок с результатами\n",
    "results_block = soup.find(\"div\", class_=\"search-registry-entrys-block\")\n",
    "\n",
    "if results_block:\n",
    "    # Находим все записи в этом блоке\n",
    "    entries = results_block.find_all(\"div\", class_=\"search-registry-entry-block\")\n",
    "\n",
    "    print(f\"Найдено записей: {len(entries)}\\n\")\n",
    "\n",
    "    for entry in entries:\n",
    "        # Ищем ссылку и номер запроса\n",
    "        link_tag = entry.find(\"a\")\n",
    "        if link_tag and \"href\" in link_tag.attrs:\n",
    "            full_link = \"https://zakupki.gov.ru\" + link_tag[\"href\"]\n",
    "            text = link_tag.get_text(strip=True)\n",
    "\n",
    "            # Извлекаем только номер запроса (цифры после №)\n",
    "            if text.startswith(\"№\"):\n",
    "                number = text[1:].strip()  # убираем № и обрезаем пробелы\n",
    "\n",
    "                # Выводим результат\n",
    "                print(f\"Номер: {number}\")\n",
    "                print(f\"Ссылка: {full_link}\")\n",
    "                print(\"-\" * 50)\n",
    "else:\n",
    "    print(\"Блок с данными не найден на странице.\")"
   ]
  }
 ],
 "metadata": {
  "kernelspec": {
   "display_name": "Python 3",
   "language": "python",
   "name": "python3"
  },
  "language_info": {
   "codemirror_mode": {
    "name": "ipython",
    "version": 3
   },
   "file_extension": ".py",
   "mimetype": "text/x-python",
   "name": "python",
   "nbconvert_exporter": "python",
   "pygments_lexer": "ipython3",
   "version": "3.9.13"
  }
 },
 "nbformat": 4,
 "nbformat_minor": 5
}
